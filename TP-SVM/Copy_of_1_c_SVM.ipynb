{
  "nbformat": 4,
  "nbformat_minor": 0,
  "metadata": {
    "colab": {
      "provenance": [],
      "collapsed_sections": []
    },
    "kernelspec": {
      "name": "python3",
      "display_name": "Python 3"
    }
  },
  "cells": [
    {
      "cell_type": "code",
      "metadata": {
        "id": "QK8of_MGVV2M",
        "colab": {
          "base_uri": "https://localhost:8080/"
        },
        "outputId": "1684a83c-f3a8-4ce7-b3aa-c0257b0257e5"
      },
      "source": [
        "!wget https://github.com/rdfia/rdfia.github.io/raw/master/data/15_scenes_Xy.npz"
      ],
      "execution_count": null,
      "outputs": [
        {
          "output_type": "stream",
          "name": "stdout",
          "text": [
            "--2022-10-12 09:34:13--  https://github.com/rdfia/rdfia.github.io/raw/master/data/15_scenes_Xy.npz\n",
            "Resolving github.com (github.com)... 140.82.114.4\n",
            "Connecting to github.com (github.com)|140.82.114.4|:443... connected.\n",
            "HTTP request sent, awaiting response... 302 Found\n",
            "Location: https://raw.githubusercontent.com/rdfia/rdfia.github.io/master/data/15_scenes_Xy.npz [following]\n",
            "--2022-10-12 09:34:14--  https://raw.githubusercontent.com/rdfia/rdfia.github.io/master/data/15_scenes_Xy.npz\n",
            "Resolving raw.githubusercontent.com (raw.githubusercontent.com)... 185.199.111.133, 185.199.108.133, 185.199.110.133, ...\n",
            "Connecting to raw.githubusercontent.com (raw.githubusercontent.com)|185.199.111.133|:443... connected.\n",
            "HTTP request sent, awaiting response... 200 OK\n",
            "Length: 35952210 (34M) [application/octet-stream]\n",
            "Saving to: ‘15_scenes_Xy.npz’\n",
            "\n",
            "15_scenes_Xy.npz    100%[===================>]  34.29M   178MB/s    in 0.2s    \n",
            "\n",
            "2022-10-12 09:34:14 (178 MB/s) - ‘15_scenes_Xy.npz’ saved [35952210/35952210]\n",
            "\n"
          ]
        }
      ]
    },
    {
      "cell_type": "code",
      "metadata": {
        "id": "PH3AHmt_WAOs",
        "colab": {
          "base_uri": "https://localhost:8080/"
        },
        "outputId": "10d90335-9f37-489c-b84a-4cc62fba6ec6"
      },
      "source": [
        "%pylab inline\n",
        "\n",
        "import matplotlib.pyplot as plt\n",
        "import numpy as np\n",
        "from sklearn.svm import SVC\n",
        "from sklearn.model_selection import KFold, train_test_split"
      ],
      "execution_count": null,
      "outputs": [
        {
          "output_type": "stream",
          "name": "stdout",
          "text": [
            "Populating the interactive namespace from numpy and matplotlib\n"
          ]
        }
      ]
    },
    {
      "cell_type": "markdown",
      "metadata": {
        "id": "A6TfY3K0W8MM"
      },
      "source": [
        "Loading BoW of the whole dataset (4485 images, thus 4485 dictionnary of 1001 words):"
      ]
    },
    {
      "cell_type": "code",
      "metadata": {
        "id": "FWLV0po7WO1E",
        "colab": {
          "base_uri": "https://localhost:8080/"
        },
        "outputId": "ecc7fa4f-0f9b-46dc-d711-06ddade294a3"
      },
      "source": [
        "data = np.load(\"15_scenes_Xy.npz\")\n",
        "X = data[\"X\"]\n",
        "y = data[\"y\"] \n",
        "\n",
        "X.shape, y.shape"
      ],
      "execution_count": null,
      "outputs": [
        {
          "output_type": "execute_result",
          "data": {
            "text/plain": [
              "((4485, 1001), (4485,))"
            ]
          },
          "metadata": {},
          "execution_count": 3
        }
      ]
    },
    {
      "cell_type": "markdown",
      "metadata": {
        "id": "Sfh5x5kYXFcY"
      },
      "source": [
        "Let's see what is the class distribution:"
      ]
    },
    {
      "cell_type": "code",
      "metadata": {
        "id": "RqNSdTTkWiPQ",
        "colab": {
          "base_uri": "https://localhost:8080/"
        },
        "outputId": "0288c252-a19e-474c-aaf7-66c7040e8ba8"
      },
      "source": [
        "{c: nb for c, nb in enumerate(np.bincount(y))}"
      ],
      "execution_count": null,
      "outputs": [
        {
          "output_type": "execute_result",
          "data": {
            "text/plain": [
              "{0: 241,\n",
              " 1: 360,\n",
              " 2: 328,\n",
              " 3: 260,\n",
              " 4: 308,\n",
              " 5: 374,\n",
              " 6: 410,\n",
              " 7: 292,\n",
              " 8: 356,\n",
              " 9: 215,\n",
              " 10: 216,\n",
              " 11: 311,\n",
              " 12: 210,\n",
              " 13: 289,\n",
              " 14: 315}"
            ]
          },
          "metadata": {},
          "execution_count": 4
        }
      ]
    },
    {
      "cell_type": "markdown",
      "metadata": {
        "id": "MVUjgR30X7pI"
      },
      "source": [
        "Split the dataset into a train & test set:"
      ]
    },
    {
      "cell_type": "code",
      "metadata": {
        "id": "AO4XiNupWjVk",
        "colab": {
          "base_uri": "https://localhost:8080/"
        },
        "outputId": "65ede8b3-9922-47f4-ab16-6f9c4089b316"
      },
      "source": [
        "X_train, X_test, y_train, y_test = train_test_split(X, y, test_size=0.2, random_state=42)\n",
        "X_test.shape"
      ],
      "execution_count": null,
      "outputs": [
        {
          "output_type": "execute_result",
          "data": {
            "text/plain": [
              "(1481, 1001)"
            ]
          },
          "metadata": {},
          "execution_count": 22
        }
      ]
    },
    {
      "cell_type": "markdown",
      "metadata": {
        "id": "SsnJDa_IYdmk"
      },
      "source": [
        "Then a validation set from the train set:"
      ]
    },
    {
      "cell_type": "code",
      "metadata": {
        "id": "jjX3N-35YcFs"
      },
      "source": [
        "#TODO = train_test_split(#TODO)\n",
        "X_train, X_val, y_train, y_val = train_test_split(X_train, y_train, test_size=0.125, random_state=42)"
      ],
      "execution_count": null,
      "outputs": []
    },
    {
      "cell_type": "markdown",
      "metadata": {
        "id": "NHlcmt-SYBKQ"
      },
      "source": [
        "Let's hyperparameter gridsearch over different values of `C`:"
      ]
    },
    {
      "cell_type": "code",
      "metadata": {
        "id": "F9wZ9l5FX_QY",
        "colab": {
          "base_uri": "https://localhost:8080/"
        },
        "outputId": "fa0f35a9-1b9e-47db-e953-8b4a2984e459"
      },
      "source": [
        "from sklearn.metrics import accuracy_score\n",
        "C_values = np.logspace(-3,3,7)\n",
        "accuracies = []\n",
        "\n",
        "for c in C_values:\n",
        "  print(f'Training SVM with C={c}')\n",
        "\n",
        "  model = SVC(C = c)\n",
        "  # Fit on sub-train set\n",
        "  model.fit(X_train,y_train)\n",
        "  # Evaluate on val set\n",
        "  y_pred = model.predict(X_val)\n",
        "  acc = accuracy_score(y_pred,y_val)\n",
        "  accuracies.append(acc)\n",
        "  print(f'--> accuracy = {acc}')"
      ],
      "execution_count": null,
      "outputs": [
        {
          "output_type": "stream",
          "name": "stdout",
          "text": [
            "Training SVM with C=0.001\n",
            "--> accuracy = 0.06914893617021277\n",
            "Training SVM with C=0.01\n",
            "--> accuracy = 0.0851063829787234\n",
            "Training SVM with C=0.1\n",
            "--> accuracy = 0.19946808510638298\n",
            "Training SVM with C=1.0\n",
            "--> accuracy = 0.4787234042553192\n",
            "Training SVM with C=10.0\n",
            "--> accuracy = 0.6808510638297872\n",
            "Training SVM with C=100.0\n",
            "--> accuracy = 0.7047872340425532\n",
            "Training SVM with C=1000.0\n",
            "--> accuracy = 0.7047872340425532\n"
          ]
        }
      ]
    },
    {
      "cell_type": "code",
      "metadata": {
        "id": "a8md3e7iZN5M",
        "colab": {
          "base_uri": "https://localhost:8080/",
          "height": 295
        },
        "outputId": "ddba6099-8dc2-44d6-948a-de251cfd7004"
      },
      "source": [
        "plt.plot(C_values,accuracies,\"-o\",color=\"blue\",label=\"validation score\")\n",
        "plt.gca().set_title(\"Accuracy of SVC classifier according to C values\")\n",
        "plt.gca().set_xlabel(\"C value\")\n",
        "plt.gca().set_ylabel(\"Accuracy score\")\n",
        "plt.legend()\n",
        "plt.show()"
      ],
      "execution_count": null,
      "outputs": [
        {
          "output_type": "display_data",
          "data": {
            "text/plain": [
              "<Figure size 432x288 with 1 Axes>"
            ],
            "image/png": "[encoded data removed]"
          },
          "metadata": {
            "needs_background": "light"
          }
        }
      ]
    },
    {
      "cell_type": "code",
      "metadata": {
        "id": "SK7WWSltbJbc",
        "colab": {
          "base_uri": "https://localhost:8080/",
          "height": 416
        },
        "outputId": "fca6b5dd-1aa1-40da-b52b-66e0d9dc324b"
      },
      "source": [
        "#TODO Fit on the whole train set, evaluate on the test set \n",
        "from sklearn.metrics import accuracy_score\n",
        "C_values = np.logspace(-2,4,7)\n",
        "accuracies_val = []\n",
        "accuracies_test = []\n",
        "\n",
        "for c in C_values:\n",
        "  print(f'Training SVM with C={c}')\n",
        "\n",
        "  model = SVC(C = c)\n",
        "  # Fit on sub-train set\n",
        "  model.fit(X_train,y_train)\n",
        "  \n",
        "  # Evaluate on val set\n",
        "  y_pred = model.predict(X_val)\n",
        "  acc = accuracy_score(y_pred,y_val)\n",
        "  accuracies_val.append(acc)\n",
        "\n",
        "  # Evaluate on test set\n",
        "  y_pred = model.predict(X_test)\n",
        "  acc = accuracy_score(y_pred,y_test)\n",
        "  accuracies_test.append(acc)\n",
        "\n",
        "\n",
        "plt.plot(C_values,accuracies_test,\"-o\",color=\"r\",label=\"test_score\")\n",
        "plt.plot(C_values,accuracies_val,\"-o\",color=\"b\",label=\"validation score\")\n",
        "plt.gca().set_title(\"Accuracy of SVC classifier according to C values on test set and val set\")\n",
        "plt.gca().set_xlabel(\"C value\")\n",
        "plt.gca().set_ylabel(\"Accuracy score\")\n",
        "plt.legend()\n",
        "plt.show()"
      ],
      "execution_count": null,
      "outputs": [
        {
          "output_type": "stream",
          "name": "stdout",
          "text": [
            "Training SVM with C=0.01\n",
            "Training SVM with C=0.1\n",
            "Training SVM with C=1.0\n",
            "Training SVM with C=10.0\n",
            "Training SVM with C=100.0\n",
            "Training SVM with C=1000.0\n",
            "Training SVM with C=10000.0\n"
          ]
        },
        {
          "output_type": "display_data",
          "data": {
            "text/plain": [
              "<Figure size 432x288 with 1 Axes>"
            ],
            "image/png": "[encoded data removed]"
          },
          "metadata": {
            "needs_background": "light"
          }
        }
      ]
    },
    {
      "cell_type": "markdown",
      "metadata": {
        "id": "iCRk9QaGbiuM"
      },
      "source": [
        "Do the same with different kernel values, and different decision functions:"
      ]
    },
    {
      "cell_type": "code",
      "metadata": {
        "id": "Pwd0BdIhbR5o"
      },
      "source": [
        "# Faire un grid search avec plusieurs paramètres"
      ],
      "execution_count": null,
      "outputs": []
    }
  ]
}